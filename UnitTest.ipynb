{
 "cells": [
  {
   "cell_type": "code",
   "execution_count": 3,
   "id": "b0fbb8a9",
   "metadata": {},
   "outputs": [],
   "source": [
    "from cubes import *\n",
    "\n",
    "brant = Brant()\n",
    "calcharo = Calcharo()\n",
    "camellya = Camellya()\n",
    "cantarella = Cantarella()\n",
    "cartethyia = Cartethyia()\n",
    "changli = Changli()\n",
    "jinhsi = Jinhsi()\n",
    "phoebe = Phoebe()\n",
    "roccia = Roccia()\n",
    "shorekeeper = Shorekeeper()\n",
    "zani = Zani()\n",
    "\n",
    "\n",
    "def setup(positions: list[list[Cube]]):\n",
    "    for i, pad in enumerate(positions):\n",
    "        for cube in pad:\n",
    "            cube.reset()\n",
    "            cube.forward(i)"
   ]
  },
  {
   "cell_type": "markdown",
   "id": "1010c10e",
   "metadata": {},
   "source": [
    "### Brant"
   ]
  },
  {
   "cell_type": "code",
   "execution_count": 4,
   "id": "f00f8a38",
   "metadata": {},
   "outputs": [],
   "source": [
    "positions = [[brant], [phoebe], [], [], []]\n",
    "move_orders = [brant, phoebe]\n",
    "setup(positions)\n",
    "\n",
    "steps = 2\n",
    "steps = brant.before_move(steps, move_orders, positions)\n",
    "brant.on_move(steps, move_orders, positions)\n",
    "\n",
    "assert positions == [[], [phoebe], [], [], [brant]]"
   ]
  },
  {
   "cell_type": "markdown",
   "id": "df959822",
   "metadata": {},
   "source": [
    "### Calcharo"
   ]
  },
  {
   "cell_type": "code",
   "execution_count": 5,
   "id": "e0336508",
   "metadata": {},
   "outputs": [],
   "source": [
    "positions = [[calcharo], [phoebe], [], [], []]\n",
    "move_orders = [calcharo, phoebe]\n",
    "setup(positions)\n",
    "\n",
    "steps = 1\n",
    "steps = calcharo.before_move(steps, move_orders, positions)\n",
    "calcharo.on_move(steps, move_orders, positions)\n",
    "\n",
    "assert positions == [[], [phoebe], [], [], [calcharo]]"
   ]
  },
  {
   "cell_type": "code",
   "execution_count": 6,
   "id": "17c1b3a5",
   "metadata": {},
   "outputs": [],
   "source": [
    "positions = [[phoebe, calcharo], [], [], [], []]\n",
    "move_orders = [calcharo, phoebe]\n",
    "setup(positions)\n",
    "\n",
    "steps = 1\n",
    "steps = calcharo.before_move(steps, move_orders, positions)\n",
    "calcharo.on_move(steps, move_orders, positions)\n",
    "\n",
    "assert positions == [[phoebe], [calcharo], [], [], []]"
   ]
  },
  {
   "cell_type": "markdown",
   "id": "4d362d24",
   "metadata": {},
   "source": [
    "### Camellya"
   ]
  },
  {
   "cell_type": "code",
   "execution_count": 7,
   "id": "70f9c1a9",
   "metadata": {},
   "outputs": [],
   "source": [
    "positions = [[camellya], [phoebe], [], [], []]\n",
    "move_orders = [camellya, phoebe]\n",
    "setup(positions)\n",
    "camellya.p = 1.0\n",
    "\n",
    "steps = 2\n",
    "steps = camellya.before_move(steps, move_orders, positions)\n",
    "camellya.on_move(steps, move_orders, positions)\n",
    "\n",
    "assert positions == [[], [phoebe], [camellya], [], []]"
   ]
  },
  {
   "cell_type": "code",
   "execution_count": 8,
   "id": "281773fe",
   "metadata": {},
   "outputs": [],
   "source": [
    "positions = [[phoebe, brant, calcharo, camellya], [], [], [], []]\n",
    "move_orders = [camellya, phoebe, brant, calcharo]\n",
    "setup(positions)\n",
    "camellya.p = 1.0\n",
    "\n",
    "steps = 1\n",
    "steps = camellya.before_move(steps, move_orders, positions)\n",
    "camellya.on_move(steps, move_orders, positions)\n",
    "\n",
    "assert positions == [[phoebe, brant, calcharo], [], [], [], [camellya]]"
   ]
  },
  {
   "cell_type": "markdown",
   "id": "95767e5b",
   "metadata": {},
   "source": [
    "### Cantarella"
   ]
  },
  {
   "cell_type": "code",
   "execution_count": 9,
   "id": "f8f1085a",
   "metadata": {},
   "outputs": [],
   "source": [
    "positions = [[cantarella, camellya], [phoebe], [calcharo], [], []]\n",
    "move_orders = [cantarella, camellya, phoebe, calcharo]\n",
    "setup(positions)\n",
    "\n",
    "steps = 3\n",
    "steps = cantarella.before_move(steps, move_orders, positions)\n",
    "cantarella.on_move(steps, move_orders, positions)\n",
    "\n",
    "assert positions == [[], [], [calcharo], [phoebe, cantarella, camellya], []]"
   ]
  },
  {
   "cell_type": "code",
   "execution_count": 10,
   "id": "205dd912",
   "metadata": {},
   "outputs": [],
   "source": [
    "positions = [[cantarella, camellya], [phoebe], [calcharo], [], []]\n",
    "move_orders = [cantarella, camellya, phoebe, calcharo]\n",
    "setup(positions)\n",
    "cantarella.skill_triggered = True\n",
    "\n",
    "steps = 3\n",
    "steps = cantarella.before_move(steps, move_orders, positions)\n",
    "cantarella.on_move(steps, move_orders, positions)\n",
    "\n",
    "assert positions == [[], [phoebe], [calcharo], [cantarella, camellya], []]"
   ]
  },
  {
   "cell_type": "markdown",
   "id": "0f5ffcd8",
   "metadata": {},
   "source": [
    "### Cartethyia"
   ]
  },
  {
   "cell_type": "code",
   "execution_count": 11,
   "id": "866c4554",
   "metadata": {},
   "outputs": [],
   "source": [
    "positions = [[cartethyia], [], [], [], [phoebe]]\n",
    "move_orders = [cartethyia, phoebe]\n",
    "setup(positions)\n",
    "cartethyia.p = 1.0\n",
    "\n",
    "steps = 1\n",
    "steps = cartethyia.before_move(steps, move_orders, positions)\n",
    "cartethyia.on_move(steps, move_orders, positions)\n",
    "cartethyia.after_move(cartethyia, steps, move_orders, positions)\n",
    "\n",
    "assert positions == [[], [cartethyia], [], [], [phoebe]]\n",
    "assert cartethyia.skill_triggered == True\n",
    "\n",
    "steps =  1\n",
    "steps = cartethyia.before_move(steps, move_orders, positions)\n",
    "cartethyia.on_move(steps, move_orders, positions)\n",
    "cartethyia.after_move(cartethyia, steps, move_orders, positions)\n",
    "\n",
    "assert positions == [[], [], [], [], [phoebe, cartethyia]]"
   ]
  },
  {
   "cell_type": "markdown",
   "id": "6f07436a",
   "metadata": {},
   "source": [
    "### Changli"
   ]
  },
  {
   "cell_type": "code",
   "execution_count": 12,
   "id": "7023cae4",
   "metadata": {},
   "outputs": [],
   "source": [
    "positions = [[changli, phoebe], [cartethyia], [], [], []]\n",
    "move_orders = [phoebe, changli, cartethyia]\n",
    "setup(positions)\n",
    "changli.p = 1.0\n",
    "\n",
    "changli.on_round_start(move_orders, positions)\n",
    "\n",
    "assert move_orders == [phoebe, changli, cartethyia]"
   ]
  },
  {
   "cell_type": "code",
   "execution_count": 13,
   "id": "8c3b64b2",
   "metadata": {},
   "outputs": [],
   "source": [
    "positions = [[phoebe, changli], [cartethyia], [], [], []]\n",
    "move_orders = [phoebe, changli, cartethyia]\n",
    "setup(positions)\n",
    "changli.p = 1.0\n",
    "\n",
    "changli.on_round_start(move_orders, positions)\n",
    "\n",
    "assert move_orders == [phoebe, cartethyia, changli]"
   ]
  },
  {
   "cell_type": "markdown",
   "id": "ea903787",
   "metadata": {},
   "source": [
    "### Jinhsi"
   ]
  },
  {
   "cell_type": "code",
   "execution_count": 14,
   "id": "b464e162",
   "metadata": {},
   "outputs": [],
   "source": [
    "positions = [[phoebe], [], [], [jinhsi, cartethyia], []]\n",
    "move_orders = [phoebe, jinhsi, cartethyia]\n",
    "setup(positions)\n",
    "jinhsi.p = 1.0\n",
    "\n",
    "steps = 3\n",
    "phoebe.on_move(steps, move_orders, positions)\n",
    "jinhsi.after_move(phoebe, steps, move_orders, positions)\n",
    "\n",
    "assert positions == [[], [], [], [cartethyia, phoebe, jinhsi], []]"
   ]
  },
  {
   "cell_type": "code",
   "execution_count": 15,
   "id": "53a01a0c",
   "metadata": {},
   "outputs": [],
   "source": [
    "positions = [[phoebe], [], [], [jinhsi, cartethyia], []]\n",
    "move_orders = [phoebe, jinhsi, cartethyia]\n",
    "setup(positions)\n",
    "jinhsi.p = 1.0\n",
    "\n",
    "steps = 4\n",
    "phoebe.on_move(steps, move_orders, positions)\n",
    "jinhsi.after_move(phoebe, steps, move_orders, positions)\n",
    "\n",
    "assert positions == [[], [], [], [jinhsi, cartethyia], [phoebe]]"
   ]
  },
  {
   "cell_type": "markdown",
   "id": "8b587fb4",
   "metadata": {},
   "source": [
    "### Phoebe"
   ]
  },
  {
   "cell_type": "code",
   "execution_count": 16,
   "id": "482b2cb4",
   "metadata": {},
   "outputs": [],
   "source": [
    "positions = [[phoebe], [cartethyia], [], [], []]\n",
    "move_orders = [phoebe]\n",
    "setup(positions)\n",
    "phoebe.p = 1.0\n",
    "\n",
    "steps = 1\n",
    "steps = phoebe.before_move(steps, move_orders, positions)\n",
    "phoebe.on_move(steps, move_orders, positions)\n",
    "\n",
    "assert positions == [[], [cartethyia], [phoebe], [], []]"
   ]
  },
  {
   "cell_type": "markdown",
   "id": "2a3c3456",
   "metadata": {},
   "source": [
    "### Roccia"
   ]
  },
  {
   "cell_type": "code",
   "execution_count": 17,
   "id": "c72e17cb",
   "metadata": {},
   "outputs": [],
   "source": [
    "positions = [[roccia], [phoebe], [], [], []]\n",
    "move_orders = [phoebe, roccia]\n",
    "setup(positions)\n",
    "\n",
    "steps = 1\n",
    "steps = roccia.before_move(steps, move_orders, positions)\n",
    "roccia.on_move(steps, move_orders, positions)\n",
    "\n",
    "assert positions == [[], [phoebe], [], [roccia], []]"
   ]
  },
  {
   "cell_type": "markdown",
   "id": "06ec2215",
   "metadata": {},
   "source": [
    "### Shorekeeper"
   ]
  },
  {
   "cell_type": "code",
   "execution_count": 18,
   "id": "1a44d5bd",
   "metadata": {},
   "outputs": [],
   "source": [
    "positions = [[shorekeeper], [], [], [], []]\n",
    "move_orders = [shorekeeper]\n",
    "setup(positions)\n",
    "\n",
    "for i in range(10):\n",
    "    assert 2 <= shorekeeper.roll() <= 3"
   ]
  },
  {
   "cell_type": "markdown",
   "id": "e057be57",
   "metadata": {},
   "source": [
    "### Zani"
   ]
  },
  {
   "cell_type": "code",
   "execution_count": 19,
   "id": "a7ecb704",
   "metadata": {},
   "outputs": [],
   "source": [
    "positions = [[phoebe, zani], [], [], [], []]\n",
    "move_orders = [phoebe, zani]\n",
    "setup(positions)\n",
    "phoebe.p = 0.0\n",
    "zani.p = 1.0\n",
    "\n",
    "for i in range(10):\n",
    "    assert zani.roll() in (1, 3)\n",
    "\n",
    "steps = 1\n",
    "steps = phoebe.before_move(steps, move_orders, positions)\n",
    "phoebe.on_move(steps, move_orders, positions)\n",
    "zani.after_move(phoebe, steps, move_orders, positions)\n",
    "\n",
    "assert positions == [[], [phoebe, zani], [], [], []]\n",
    "assert zani.extra_steps == 2\n",
    "\n",
    "steps = 1\n",
    "zani.on_move(steps, move_orders, positions)\n",
    "\n",
    "assert positions == [[], [phoebe], [], [], [zani]]"
   ]
  },
  {
   "cell_type": "code",
   "execution_count": null,
   "id": "d3d4550d",
   "metadata": {},
   "outputs": [],
   "source": []
  }
 ],
 "metadata": {
  "kernelspec": {
   "display_name": "p310",
   "language": "python",
   "name": "python3"
  },
  "language_info": {
   "codemirror_mode": {
    "name": "ipython",
    "version": 3
   },
   "file_extension": ".py",
   "mimetype": "text/x-python",
   "name": "python",
   "nbconvert_exporter": "python",
   "pygments_lexer": "ipython3",
   "version": "3.10.14"
  }
 },
 "nbformat": 4,
 "nbformat_minor": 5
}
